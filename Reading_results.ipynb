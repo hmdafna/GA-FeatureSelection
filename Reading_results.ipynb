{
 "cells": [
  {
   "cell_type": "markdown",
   "metadata": {},
   "source": [
    "This file opens and reads pickle files containing the results which can be manually added to a csv file."
   ]
  },
  {
   "cell_type": "code",
   "execution_count": null,
   "metadata": {},
   "outputs": [],
   "source": [
    "import pickle\n",
    "\n",
    "# Files will be automatically saved as 'combined_resultsi', where 'i' is the run number. \n",
    "# 'pickle_files' is a list containing all result files from the main run.\n",
    "pickle_files = []\n",
    "\n",
    "for file in pickle_files:\n",
    "\n",
    "  # Load the combined results from the pickle file\n",
    "  try:\n",
    "      with open(file, \"rb\") as f:\n",
    "          combined_results_loaded = pickle.load(f)\n",
    "          print(\"Pickle file loaded successfully.\")\n",
    "  except FileNotFoundError:\n",
    "      print(\"The specified pickle file was not found.\")\n",
    "      exit()\n",
    "  except pickle.UnpicklingError:\n",
    "      print(\"Error while unpickling the file. It might be corrupted or not a valid pickle file.\")\n",
    "      exit()\n",
    "\n",
    "  print(\"Type of loaded data:\", type(combined_results_loaded))\n",
    "  if isinstance(combined_results_loaded, dict):\n",
    "      sample_key = next(iter(combined_results_loaded))\n",
    "      print(f\"Sample key: {sample_key}\")\n",
    "      print(f\"Sample value: {combined_results_loaded[sample_key]}\")\n",
    "\n",
    "  # this prints the population itself, we dont care about it now.\n",
    "  print(\"Loaded Combined Results:\")\n",
    "  for key, value in combined_results_loaded.items():\n",
    "      if not isinstance(value, dict):\n",
    "          print(f\"{key}: {value}\")"
   ]
  }
 ],
 "metadata": {
  "language_info": {
   "name": "python"
  }
 },
 "nbformat": 4,
 "nbformat_minor": 2
}
